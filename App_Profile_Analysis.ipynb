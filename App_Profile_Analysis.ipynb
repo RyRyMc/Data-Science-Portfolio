{
 "cells": [
  {
   "cell_type": "markdown",
   "metadata": {},
   "source": [
    "# Profitable App Profiles for the App Store and Google Play Markets\n",
    "---\n",
    "In the project, I am acting as a data analyst for a company that builds Android and iOS mobile apps. Our apps are available on Google Play and the App Store.\n",
    "\n",
    "We only build apps that are free to download, and our main source of revenue consists of in-app ads.  This means our revenue for any given app is mostly influenced by the number of users who use our app - the more users that see and engage with the ads, the better. We will also be directing our apps at an English-speaking audience.\n",
    "\n",
    "The goal of this project is to analyze data to help our developers understand what type of apps are likely to attract more users."
   ]
  },
  {
   "cell_type": "markdown",
   "metadata": {},
   "source": [
    "## Opening and Exploring the Data\n",
    "---\n",
    "As of September 2018, there were roughly 2 million iOS apps accessible on the App Store, and 2.1 million Android apps on Google Play.\n",
    "\n",
    "Gathering data for more than 4 million apps requires a lot of time and cash, so we'll attempt to use a sample of the data to analyze. To avoid spending time on gathering new data ourselves, we should initially attempt to check whether we can locate any pertinent existing data at no expense. Fortunately, these are two data sets that appear to be reasonable for our objectives:\n",
    "\n",
    "* [A data set](https://www.kaggle.com/lava18/google-play-store-apps/home) containing data on roughly 10,000 Android apps from Google Play; the data was gathered in August 2018.\n",
    "* [A data set](https://www.kaggle.com/ramamet4/app-store-apple-data-set-10k-apps/home) containing information on roughly 7,000 iOS apps from the App Store; the data was gathered in July 2017.\n",
    "\n",
    "We'll begin by opening these two data sets."
   ]
  },
  {
   "cell_type": "code",
   "execution_count": 1,
   "metadata": {
    "collapsed": false
   },
   "outputs": [],
   "source": [
    "from csv import reader\n",
    "\n",
    "apple_opened_file = open('AppleStore.csv')\n",
    "apple_read_file = reader(apple_opened_file)\n",
    "apple_dataset = list(apple_read_file)\n",
    "apple_header = apple_dataset[0]\n",
    "apple_data = apple_dataset[1:]\n",
    "\n",
    "\n",
    "google_opened_file = open('googleplaystore.csv')\n",
    "google_read_file = reader(google_opened_file)\n",
    "google_dataset = list(google_read_file)\n",
    "google_header = google_dataset[0]\n",
    "google_data = google_dataset[1:]"
   ]
  },
  {
   "cell_type": "markdown",
   "metadata": {},
   "source": [
    "To make them simpler for us to investigate, we will make a function named `explore_data()` that we can use to print easily understood rows."
   ]
  },
  {
   "cell_type": "code",
   "execution_count": 2,
   "metadata": {
    "collapsed": true
   },
   "outputs": [],
   "source": [
    "# dataset is expected to be a list of lists\n",
    "# start and end are expected to be ints\n",
    "# rows_and_columns is a defaulted bool for getting the table size\n",
    "def explore_data(dataset, start, end, rows_and_columns=False):\n",
    "    dataset_slice = dataset[start:end]\n",
    "    for row in dataset_slice:\n",
    "        print(row)\n",
    "        print('\\n')\n",
    "    \n",
    "    if rows_and_columns:\n",
    "        print('Number of rows: ', len(dataset))\n",
    "        print('Number of columns: ', len(dataset[0]))"
   ]
  },
  {
   "cell_type": "markdown",
   "metadata": {},
   "source": [
    "Now let's investigate the Apple Store data set."
   ]
  },
  {
   "cell_type": "code",
   "execution_count": 3,
   "metadata": {
    "collapsed": false,
    "scrolled": false
   },
   "outputs": [
    {
     "name": "stdout",
     "output_type": "stream",
     "text": [
      "['id', 'track_name', 'size_bytes', 'currency', 'price', 'rating_count_tot', 'rating_count_ver', 'user_rating', 'user_rating_ver', 'ver', 'cont_rating', 'prime_genre', 'sup_devices.num', 'ipadSc_urls.num', 'lang.num', 'vpp_lic']\n",
      "\n",
      "\n",
      "['389801252', 'Instagram', '113954816', 'USD', '0.0', '2161558', '1289', '4.5', '4.0', '10.23', '12+', 'Photo & Video', '37', '0', '29', '1']\n",
      "\n",
      "\n",
      "['529479190', 'Clash of Clans', '116476928', 'USD', '0.0', '2130805', '579', '4.5', '4.5', '9.24.12', '9+', 'Games', '38', '5', '18', '1']\n",
      "\n",
      "\n",
      "['420009108', 'Temple Run', '65921024', 'USD', '0.0', '1724546', '3842', '4.5', '4.0', '1.6.2', '9+', 'Games', '40', '5', '1', '1']\n",
      "\n",
      "\n",
      "Number of rows:  7197\n",
      "Number of columns:  16\n"
     ]
    }
   ],
   "source": [
    "print(apple_header)\n",
    "print('\\n')\n",
    "explore_data(apple_data, 1, 4, True)"
   ]
  },
  {
   "cell_type": "markdown",
   "metadata": {},
   "source": [
    "We see now that the iOS data set has 7197 apps and 16 columns. The columns that seem useful right now are `track_name`, `'currency'`, `'price'`, `'rating_count_tot'`, `'rating_count_ver'`, and `'prime_genre'`. You can find the documentation [here](https://www.kaggle.com/ramamet4/app-store-apple-data-set-10k-apps/home) to better understand the column titles.\n",
    "\n",
    "Now let's look at the Google Play data set."
   ]
  },
  {
   "cell_type": "code",
   "execution_count": 4,
   "metadata": {
    "collapsed": false,
    "scrolled": false
   },
   "outputs": [
    {
     "name": "stdout",
     "output_type": "stream",
     "text": [
      "['App', 'Category', 'Rating', 'Reviews', 'Size', 'Installs', 'Type', 'Price', 'Content Rating', 'Genres', 'Last Updated', 'Current Ver', 'Android Ver']\n",
      "\n",
      "\n",
      "['Coloring book moana', 'ART_AND_DESIGN', '3.9', '967', '14M', '500,000+', 'Free', '0', 'Everyone', 'Art & Design;Pretend Play', 'January 15, 2018', '2.0.0', '4.0.3 and up']\n",
      "\n",
      "\n",
      "['U Launcher Lite – FREE Live Cool Themes, Hide Apps', 'ART_AND_DESIGN', '4.7', '87510', '8.7M', '5,000,000+', 'Free', '0', 'Everyone', 'Art & Design', 'August 1, 2018', '1.2.4', '4.0.3 and up']\n",
      "\n",
      "\n",
      "['Sketch - Draw & Paint', 'ART_AND_DESIGN', '4.5', '215644', '25M', '50,000,000+', 'Free', '0', 'Teen', 'Art & Design', 'June 8, 2018', 'Varies with device', '4.2 and up']\n",
      "\n",
      "\n",
      "Number of rows:  10841\n",
      "Number of columns:  13\n"
     ]
    }
   ],
   "source": [
    "print(google_header)\n",
    "print('\\n')\n",
    "explore_data(google_data, 1, 4, True)"
   ]
  },
  {
   "cell_type": "markdown",
   "metadata": {},
   "source": [
    "The Google data set contains more apps at 10841 apps and but less columns at 13 columns. The columns that seem interesting are `'App'`, `'Category'`, `'Reviews'`, `'Installs'`, `'Type'`, `'Price'`, and `'Genre'`.\n",
    "\n",
    "## Deleting Wrong Data\n",
    "---\n",
    "Prior to starting our analysis, we have to ensure the data we analyze is related to our company, otherwise our results would be inaccurate. This means we have to: \n",
    "\n",
    "* Recognize incorrect information, and change or delete it. \n",
    "* Recognize duplicates, and delete the them. "
   ]
  },
  {
   "cell_type": "markdown",
   "metadata": {},
   "source": [
    "First we will investigate the error reported in [this](https://www.kaggle.com/lava18/google-play-store-apps/discussion) discussion post on the Google Play data set."
   ]
  },
  {
   "cell_type": "code",
   "execution_count": 5,
   "metadata": {
    "collapsed": false,
    "scrolled": true
   },
   "outputs": [
    {
     "name": "stdout",
     "output_type": "stream",
     "text": [
      "['App', 'Category', 'Rating', 'Reviews', 'Size', 'Installs', 'Type', 'Price', 'Content Rating', 'Genres', 'Last Updated', 'Current Ver', 'Android Ver']\n",
      "\n",
      "\n",
      "['Life Made WI-Fi Touchscreen Photo Frame', '1.9', '19', '3.0M', '1,000+', 'Free', '0', 'Everyone', '', 'February 11, 2018', '1.0.19', '4.0 and up']\n",
      "\n",
      "\n"
     ]
    }
   ],
   "source": [
    "print(google_header)\n",
    "print(\"\\n\")\n",
    "explore_data(google_data, 10472, 10473)"
   ]
  },
  {
   "cell_type": "markdown",
   "metadata": {},
   "source": [
    "Here we see that this row is missing the `'Rating'` column because the the value is `'19'` and the highest possible value is `'5'`.\n",
    "\n",
    "We will go ahead and remove this row and confirm that it has been removed."
   ]
  },
  {
   "cell_type": "code",
   "execution_count": 6,
   "metadata": {
    "collapsed": false
   },
   "outputs": [
    {
     "name": "stdout",
     "output_type": "stream",
     "text": [
      "['Life Made WI-Fi Touchscreen Photo Frame', '1.9', '19', '3.0M', '1,000+', 'Free', '0', 'Everyone', '', 'February 11, 2018', '1.0.19', '4.0 and up']\n",
      "\n",
      "\n",
      "['osmino Wi-Fi: free WiFi', 'TOOLS', '4.2', '134203', '4.1M', '10,000,000+', 'Free', '0', 'Everyone', 'Tools', 'August 7, 2018', '6.06.14', '4.4 and up']\n",
      "\n",
      "\n"
     ]
    }
   ],
   "source": [
    "explore_data(google_data, 10472, 10473)\n",
    "del google_data[10472]\n",
    "explore_data(google_data, 10472, 10473)"
   ]
  },
  {
   "cell_type": "markdown",
   "metadata": {},
   "source": [
    "[This](https://www.kaggle.com/ramamet4/app-store-apple-data-set-10k-apps/discussion) discussion section on the App Store data set doesn't seem to show any errors in the data that need to be removed.\n",
    "\n",
    "## Removing Duplicate Entries\n",
    "---\n",
    "[This](https://www.kaggle.com/lava18/google-play-store-apps/discussion) discussion section on the Google Play data set states that a known duplicated app is Instagram. Lets check to see if this is true."
   ]
  },
  {
   "cell_type": "code",
   "execution_count": 7,
   "metadata": {
    "collapsed": false
   },
   "outputs": [
    {
     "name": "stdout",
     "output_type": "stream",
     "text": [
      "['Instagram', 'SOCIAL', '4.5', '66577313', 'Varies with device', '1,000,000,000+', 'Free', '0', 'Teen', 'Social', 'July 31, 2018', 'Varies with device', 'Varies with device']\n",
      "['Instagram', 'SOCIAL', '4.5', '66577446', 'Varies with device', '1,000,000,000+', 'Free', '0', 'Teen', 'Social', 'July 31, 2018', 'Varies with device', 'Varies with device']\n",
      "['Instagram', 'SOCIAL', '4.5', '66577313', 'Varies with device', '1,000,000,000+', 'Free', '0', 'Teen', 'Social', 'July 31, 2018', 'Varies with device', 'Varies with device']\n",
      "['Instagram', 'SOCIAL', '4.5', '66509917', 'Varies with device', '1,000,000,000+', 'Free', '0', 'Teen', 'Social', 'July 31, 2018', 'Varies with device', 'Varies with device']\n"
     ]
    }
   ],
   "source": [
    "for app in google_data:\n",
    "    name = app[0]\n",
    "    if name == 'Instagram':\n",
    "        print(app)"
   ]
  },
  {
   "cell_type": "markdown",
   "metadata": {},
   "source": [
    "We can see that the Instagram app has 4 duplicate entries. Now that we confirmed that there is this duplication in the data set, lets check to see how many duplicate apps appear in the data set."
   ]
  },
  {
   "cell_type": "code",
   "execution_count": 8,
   "metadata": {
    "collapsed": false,
    "scrolled": true
   },
   "outputs": [
    {
     "name": "stdout",
     "output_type": "stream",
     "text": [
      "Number of duplicate rows: 1181\n",
      "\n",
      "\n",
      "Examples of duplicated apps: ['Quick PDF Scanner + OCR FREE', 'Box', 'Google My Business', 'ZOOM Cloud Meetings', 'join.me - Simple Meetings', 'Box', 'Zenefits', 'Google Ads', 'Google My Business', 'Slack', 'FreshBooks Classic', 'Insightly CRM', 'QuickBooks Accounting: Invoicing & Expenses', 'HipChat - Chat Built for Teams', 'Xero Accounting Software']\n"
     ]
    }
   ],
   "source": [
    "duplicate = []\n",
    "unique = []\n",
    "\n",
    "for app in google_data:\n",
    "    name = app[0]\n",
    "    \n",
    "    if name in unique:\n",
    "        duplicate.append(name)\n",
    "    else:\n",
    "        unique.append(name)\n",
    "\n",
    "print('Number of duplicate rows: ' + str(len(duplicate)))\n",
    "print('\\n')\n",
    "print('Examples of duplicated apps: ' + str(duplicate[:15]))"
   ]
  },
  {
   "cell_type": "markdown",
   "metadata": {},
   "source": [
    "Now we see that there are going to be 1181 duplicate entries in our data set. We need to remove the duplicates but we don't want to do it at random. Looking at the Instagram example, we can see that the unique value between each of them is the number of reviews. We can determine which was the most recent retrieval of app data by whichever row has the greatest number of reviews.\n",
    "\n",
    "Lets see how many apps we should expect to see after we are done removing the duplicates."
   ]
  },
  {
   "cell_type": "code",
   "execution_count": 9,
   "metadata": {
    "collapsed": false
   },
   "outputs": [
    {
     "name": "stdout",
     "output_type": "stream",
     "text": [
      "Expected length after duplication removal:  9659\n"
     ]
    }
   ],
   "source": [
    "expected_length = str(len(google_data) - len(duplicate))\n",
    "print('Expected length after duplication removal: ', expected_length)"
   ]
  },
  {
   "cell_type": "markdown",
   "metadata": {},
   "source": [
    "So we see that we should have 9659 entries left after removing the duplicates.\n",
    "\n",
    "First we will create a dictionary to hold the name of each app paired with its highest review count."
   ]
  },
  {
   "cell_type": "code",
   "execution_count": 10,
   "metadata": {
    "collapsed": false
   },
   "outputs": [
    {
     "name": "stdout",
     "output_type": "stream",
     "text": [
      "Size of review_max : 9659\n"
     ]
    }
   ],
   "source": [
    "reviews_max = {}\n",
    "\n",
    "for app in google_data:\n",
    "    name = app[0]\n",
    "    n_reviews = float(app[3])\n",
    "    \n",
    "    if name in reviews_max and reviews_max[name] < n_reviews:\n",
    "        reviews_max[name] = n_reviews\n",
    "    elif name not in reviews_max:\n",
    "        reviews_max[name] = n_reviews\n",
    "\n",
    "print('Size of review_max :', len(reviews_max))"
   ]
  },
  {
   "cell_type": "markdown",
   "metadata": {},
   "source": [
    "We see that the dictionary has the same number of entries as our expected amount so we should be ready to remove the duplicates.\n",
    "\n",
    "Next we will create a new data set that will have only the highest reviewed occurance of the app. We do this by checking each app against our dictionary to see if the app matches our highest number of reviews. We also check to see if it is in our `already_added` list to make sure that if multiple duplicates have the same number of reviews, they won't be added twice."
   ]
  },
  {
   "cell_type": "code",
   "execution_count": 11,
   "metadata": {
    "collapsed": false
   },
   "outputs": [
    {
     "name": "stdout",
     "output_type": "stream",
     "text": [
      "Size of google_clean:  9659\n",
      "\n",
      "\n",
      "['Instagram', 'SOCIAL', '4.5', '66577446', 'Varies with device', '1,000,000,000+', 'Free', '0', 'Teen', 'Social', 'July 31, 2018', 'Varies with device', 'Varies with device']\n"
     ]
    }
   ],
   "source": [
    "google_clean = []\n",
    "already_added = []\n",
    "\n",
    "for app in google_data:\n",
    "    name = app[0]\n",
    "    n_reviews = float(app[3])\n",
    "    \n",
    "    if n_reviews == reviews_max[name] and name not in already_added:\n",
    "        google_clean.append(app)\n",
    "        already_added.append(name)\n",
    "    \n",
    "print('Size of google_clean: ', len(google_clean))\n",
    "print('\\n')\n",
    "\n",
    "for app in google_clean:\n",
    "    name = app[0]\n",
    "    if name == 'Instagram':\n",
    "        print(app)"
   ]
  },
  {
   "cell_type": "markdown",
   "metadata": {},
   "source": [
    "We again matched our expected amount of entries. We have also rerun our initial check and see that there is only one entry for Instagram and it is the one with the highest number of reviews.\n",
    "\n",
    "## Removing Non-English Apps\n",
    "---\n",
    "\n",
    "Since our company is aiming their apps at English speakers, we need to remove any apps in each data set that are not aimed at English speakers.\n",
    "\n",
    "First, we will create a function called `isEnglish()` to check to see if a string contains ASCII characters that are non-English, which will be any character above 127 in Unicode. We will use the `ord()` built in function to convert the characters in the strings to Unicode. Since characters like the trademare symbol and emojis fall outside of this criteria, we will also allow for up to 3 characters that fall outside of ASCII characters so as to not lose viable data."
   ]
  },
  {
   "cell_type": "code",
   "execution_count": 12,
   "metadata": {
    "collapsed": false
   },
   "outputs": [
    {
     "name": "stdout",
     "output_type": "stream",
     "text": [
      "True\n",
      "False\n",
      "True\n",
      "True\n"
     ]
    }
   ],
   "source": [
    "def isEnglish(string):\n",
    "    count = 0\n",
    "    for letter in string:\n",
    "        if ord(letter) > 127:\n",
    "            count += 1\n",
    "    if count > 3:\n",
    "        return False\n",
    "    return True\n",
    "\n",
    "# Testing\n",
    "print(isEnglish('Instagram'))\n",
    "print(isEnglish('爱奇艺PPS -《欢乐颂2》电视剧热播'))\n",
    "print(isEnglish('Docs To Go™ Free Office Suite'))\n",
    "print(isEnglish('Instachat 😜'))"
   ]
  },
  {
   "cell_type": "markdown",
   "metadata": {},
   "source": [
    "Now we will use this function to remove the apps that are non-English from both data sets."
   ]
  },
  {
   "cell_type": "code",
   "execution_count": 13,
   "metadata": {
    "collapsed": false
   },
   "outputs": [
    {
     "name": "stdout",
     "output_type": "stream",
     "text": [
      "Total Google Play Apps:  9659\n",
      "Total English Google Play Apps:  9614\n",
      "Total Non-English Google Apps Removed:  45\n",
      "\n",
      "\n",
      "Total App Store Apps:  7197\n",
      "Total English App Store Apps:  6183\n",
      "Total Non-English App Store Apps Removed:  1014\n"
     ]
    }
   ],
   "source": [
    "google_data_english = []\n",
    "apple_data_english = []\n",
    "\n",
    "for app in google_clean:\n",
    "    name = app[0]\n",
    "    if isEnglish(name):\n",
    "        google_data_english.append(app)\n",
    "\n",
    "for app in apple_data:\n",
    "    name = app[1]\n",
    "    if isEnglish(name):\n",
    "        apple_data_english.append(app)\n",
    "\n",
    "print('Total Google Play Apps: ', len(google_clean))\n",
    "print('Total English Google Play Apps: ', len(google_data_english))\n",
    "print('Total Non-English Google Apps Removed: ', len(google_clean) - len(google_data_english))\n",
    "print('\\n')\n",
    "print('Total App Store Apps: ', len(apple_data))\n",
    "print('Total English App Store Apps: ', len(apple_data_english))\n",
    "print('Total Non-English App Store Apps Removed: ', len(apple_data) - len(apple_data_english))"
   ]
  },
  {
   "cell_type": "markdown",
   "metadata": {},
   "source": [
    "So we removed 45 Non-English apps from the Google Play data set and 1014 from the App Store data set.\n",
    "\n",
    "## Isolating the Free Apps\n",
    "---\n",
    "\n",
    "We also mentioned that our company specializes in free apps, so we need to isolate the free apps in each of these data sets.\n",
    "\n",
    "We will do that by taking our previous english only data sets and running them through one more loop that checks if they are a free app."
   ]
  },
  {
   "cell_type": "code",
   "execution_count": 14,
   "metadata": {
    "collapsed": false
   },
   "outputs": [
    {
     "name": "stdout",
     "output_type": "stream",
     "text": [
      "Total English Google Play Apps:  9614\n",
      "Total Free English Google Play Apps:  8864\n",
      "Total Paid Google Apps Removed:  750\n",
      "\n",
      "\n",
      "Total English App Store Apps:  6183\n",
      "Total Free English App Store Apps:  3222\n",
      "Total Paid App Store Apps Removed:  2961\n"
     ]
    }
   ],
   "source": [
    "google_data_final = [] \n",
    "apple_data_final = []\n",
    "\n",
    "for app in google_data_english:\n",
    "    price = app[7]\n",
    "    if price == '0':\n",
    "        google_data_final.append(app)\n",
    "\n",
    "for app in apple_data_english:\n",
    "    price = app[4]\n",
    "    if price == '0.0':\n",
    "        apple_data_final.append(app)\n",
    "\n",
    "print('Total English Google Play Apps: ', len(google_data_english))\n",
    "print('Total Free English Google Play Apps: ', len(google_data_final))\n",
    "print('Total Paid Google Apps Removed: ', len(google_data_english) - len(google_data_final))\n",
    "print('\\n')\n",
    "print('Total English App Store Apps: ', len(apple_data_english))\n",
    "print('Total Free English App Store Apps: ', len(apple_data_final))\n",
    "print('Total Paid App Store Apps Removed: ', len(apple_data_english) - len(apple_data_final))"
   ]
  },
  {
   "cell_type": "markdown",
   "metadata": {},
   "source": [
    "We can see that we are down to 8864 Google Play apps and 3222 App Store Apps that are free and directed at an English audience. So now we finally have our data sets cleaned, lets move on to the analysis.\n",
    "\n",
    "## Most Common Apps by Genre\n",
    "---\n",
    "\n",
    "As we mentioned in the beginning, we are wanting to produce an app on both the Google Play Store and the App Store. To minimize the risks and costs, we have a validation strategy in place to guide us: \n",
    "\n",
    "1. Build a minimal Android version of the app, and add it to Google Play.\n",
    "2. If the app has a good response from users, we develop it further.\n",
    "3. If the app is profitable after six months, we build an iOS version of the app and add it to the App Store.\n",
    "\n",
    "So since we want to make an app in both markets, we will need to find a type of app that works on both the Google Play Store and the App Store. For this we will build frequency tables for both stores based on the genre columns in both the data sets and the Category column from the Google Play data set.\n",
    "\n",
    "We'll build two functions we can use to analyze the frequency tables:\n",
    "\n",
    "* One function to generate frequency tables that show percentages\n",
    "* Another function we can use to display the percentages in a descending order."
   ]
  },
  {
   "cell_type": "code",
   "execution_count": 15,
   "metadata": {
    "collapsed": false
   },
   "outputs": [],
   "source": [
    "def freq_table(dataset, index):\n",
    "    table = {}\n",
    "    \n",
    "    for row in dataset:\n",
    "        key = row[index]\n",
    "        if key in table:\n",
    "            table[key] += 1\n",
    "        else:\n",
    "            table[key] = 1\n",
    "    \n",
    "    for key in table:\n",
    "        value = table[key]\n",
    "        total = len(dataset)\n",
    "        percent = (value / total) * 100\n",
    "        table[key] = percent\n",
    "    \n",
    "    return table\n",
    "\n",
    "def display_table(dataset, index):\n",
    "    table = freq_table(dataset, index)\n",
    "    table_display = []\n",
    "    for key in table:\n",
    "        key_val_as_tuple = (table[key], key)\n",
    "        table_display.append(key_val_as_tuple)\n",
    "        \n",
    "    table_sorted = sorted(table_display, reverse = True)\n",
    "    for entry in table_sorted:\n",
    "        print(entry[1], ':', entry[0])"
   ]
  },
  {
   "cell_type": "markdown",
   "metadata": {},
   "source": [
    "### App Store `prime_genre` Analysis"
   ]
  },
  {
   "cell_type": "code",
   "execution_count": 16,
   "metadata": {
    "collapsed": false
   },
   "outputs": [
    {
     "name": "stdout",
     "output_type": "stream",
     "text": [
      "Games : 58.16263190564867\n",
      "Entertainment : 7.883302296710118\n",
      "Photo & Video : 4.9658597144630665\n",
      "Education : 3.662321539416512\n",
      "Social Networking : 3.2898820608317814\n",
      "Shopping : 2.60707635009311\n",
      "Utilities : 2.5139664804469275\n",
      "Sports : 2.1415270018621975\n",
      "Music : 2.0484171322160147\n",
      "Health & Fitness : 2.0173805090006205\n",
      "Productivity : 1.7380509000620732\n",
      "Lifestyle : 1.5828677839851024\n",
      "News : 1.3345747982619491\n",
      "Travel : 1.2414649286157666\n",
      "Finance : 1.1173184357541899\n",
      "Weather : 0.8690254500310366\n",
      "Food & Drink : 0.8069522036002483\n",
      "Reference : 0.5586592178770949\n",
      "Business : 0.5276225946617008\n",
      "Book : 0.4345127250155183\n",
      "Navigation : 0.186219739292365\n",
      "Medical : 0.186219739292365\n",
      "Catalogs : 0.12414649286157665\n"
     ]
    }
   ],
   "source": [
    "display_table(apple_data_final, 11)"
   ]
  },
  {
   "cell_type": "markdown",
   "metadata": {},
   "source": [
    "We can see that the most common genre in the Free English App Store Apps are `Games` followed by `Entertainment`. `Games` is the dominant app in this market by holding 60% of the total apps. We can also see that most of the apps are built for entertainment (`Games`, `Entertainment`, and `Photo & Video`) where as practical apps (`Education`, `Shopping`, and `Utilities`) are less represented. While it may seem at first glance that a Gaming app is what we should be in our app profile, we can't assume that just because they make up the majority of apps that they also have the most users.\n",
    "\n",
    "### Google Play `Catagory` Analysis"
   ]
  },
  {
   "cell_type": "code",
   "execution_count": 17,
   "metadata": {
    "collapsed": false
   },
   "outputs": [
    {
     "name": "stdout",
     "output_type": "stream",
     "text": [
      "FAMILY : 18.907942238267147\n",
      "GAME : 9.724729241877256\n",
      "TOOLS : 8.461191335740072\n",
      "BUSINESS : 4.591606498194946\n",
      "LIFESTYLE : 3.9034296028880866\n",
      "PRODUCTIVITY : 3.892148014440433\n",
      "FINANCE : 3.7003610108303246\n",
      "MEDICAL : 3.531137184115524\n",
      "SPORTS : 3.395758122743682\n",
      "PERSONALIZATION : 3.3167870036101084\n",
      "COMMUNICATION : 3.2378158844765346\n",
      "HEALTH_AND_FITNESS : 3.0798736462093865\n",
      "PHOTOGRAPHY : 2.944494584837545\n",
      "NEWS_AND_MAGAZINES : 2.7978339350180503\n",
      "SOCIAL : 2.6624548736462095\n",
      "TRAVEL_AND_LOCAL : 2.33528880866426\n",
      "SHOPPING : 2.2450361010830324\n",
      "BOOKS_AND_REFERENCE : 2.1435018050541514\n",
      "DATING : 1.861462093862816\n",
      "VIDEO_PLAYERS : 1.7937725631768955\n",
      "MAPS_AND_NAVIGATION : 1.3989169675090252\n",
      "FOOD_AND_DRINK : 1.2409747292418771\n",
      "EDUCATION : 1.1620036101083033\n",
      "ENTERTAINMENT : 0.9589350180505415\n",
      "LIBRARIES_AND_DEMO : 0.9363718411552346\n",
      "AUTO_AND_VEHICLES : 0.9250902527075812\n",
      "HOUSE_AND_HOME : 0.8235559566787004\n",
      "WEATHER : 0.8009927797833934\n",
      "EVENTS : 0.7107400722021661\n",
      "PARENTING : 0.6543321299638989\n",
      "ART_AND_DESIGN : 0.6430505415162455\n",
      "COMICS : 0.6204873646209386\n",
      "BEAUTY : 0.5979241877256317\n"
     ]
    }
   ],
   "source": [
    "display_table(google_data_final, 1)"
   ]
  },
  {
   "cell_type": "markdown",
   "metadata": {},
   "source": [
    "We can see here that the most popular catagory for Free English Google Play Apps is `Family` followed by `Game`. We can see that these two hold the top 27% of the market. We can also see that in comparison with the App Store, Google Play's market is more spread out among several catagories. Of the top catagories, more of the apps belong to practical uses that in the Apps Store.\n",
    "\n",
    "### Google Play `Genres` Analysis"
   ]
  },
  {
   "cell_type": "code",
   "execution_count": 18,
   "metadata": {
    "collapsed": false
   },
   "outputs": [
    {
     "name": "stdout",
     "output_type": "stream",
     "text": [
      "Tools : 8.449909747292418\n",
      "Entertainment : 6.069494584837545\n",
      "Education : 5.347472924187725\n",
      "Business : 4.591606498194946\n",
      "Productivity : 3.892148014440433\n",
      "Lifestyle : 3.892148014440433\n",
      "Finance : 3.7003610108303246\n",
      "Medical : 3.531137184115524\n",
      "Sports : 3.463447653429603\n",
      "Personalization : 3.3167870036101084\n",
      "Communication : 3.2378158844765346\n",
      "Action : 3.1024368231046933\n",
      "Health & Fitness : 3.0798736462093865\n",
      "Photography : 2.944494584837545\n",
      "News & Magazines : 2.7978339350180503\n",
      "Social : 2.6624548736462095\n",
      "Travel & Local : 2.3240072202166067\n",
      "Shopping : 2.2450361010830324\n",
      "Books & Reference : 2.1435018050541514\n",
      "Simulation : 2.0419675090252705\n",
      "Dating : 1.861462093862816\n",
      "Arcade : 1.8501805054151623\n",
      "Video Players & Editors : 1.7712093862815883\n",
      "Casual : 1.7599277978339352\n",
      "Maps & Navigation : 1.3989169675090252\n",
      "Food & Drink : 1.2409747292418771\n",
      "Puzzle : 1.128158844765343\n",
      "Racing : 0.9927797833935018\n",
      "Role Playing : 0.9363718411552346\n",
      "Libraries & Demo : 0.9363718411552346\n",
      "Auto & Vehicles : 0.9250902527075812\n",
      "Strategy : 0.9138086642599278\n",
      "House & Home : 0.8235559566787004\n",
      "Weather : 0.8009927797833934\n",
      "Events : 0.7107400722021661\n",
      "Adventure : 0.6768953068592057\n",
      "Comics : 0.6092057761732852\n",
      "Beauty : 0.5979241877256317\n",
      "Art & Design : 0.5979241877256317\n",
      "Parenting : 0.4963898916967509\n",
      "Card : 0.45126353790613716\n",
      "Casino : 0.42870036101083037\n",
      "Trivia : 0.41741877256317694\n",
      "Educational;Education : 0.39485559566787\n",
      "Board : 0.3835740072202166\n",
      "Educational : 0.3722924187725632\n",
      "Education;Education : 0.33844765342960287\n",
      "Word : 0.2594765342960289\n",
      "Casual;Pretend Play : 0.236913357400722\n",
      "Music : 0.2030685920577617\n",
      "Racing;Action & Adventure : 0.16922382671480143\n",
      "Puzzle;Brain Games : 0.16922382671480143\n",
      "Entertainment;Music & Video : 0.16922382671480143\n",
      "Casual;Brain Games : 0.13537906137184114\n",
      "Casual;Action & Adventure : 0.13537906137184114\n",
      "Arcade;Action & Adventure : 0.12409747292418773\n",
      "Action;Action & Adventure : 0.10153429602888085\n",
      "Educational;Pretend Play : 0.09025270758122744\n",
      "Simulation;Action & Adventure : 0.078971119133574\n",
      "Parenting;Education : 0.078971119133574\n",
      "Entertainment;Brain Games : 0.078971119133574\n",
      "Board;Brain Games : 0.078971119133574\n",
      "Parenting;Music & Video : 0.06768953068592057\n",
      "Educational;Brain Games : 0.06768953068592057\n",
      "Casual;Creativity : 0.06768953068592057\n",
      "Art & Design;Creativity : 0.06768953068592057\n",
      "Education;Pretend Play : 0.056407942238267145\n",
      "Role Playing;Pretend Play : 0.04512635379061372\n",
      "Education;Creativity : 0.04512635379061372\n",
      "Role Playing;Action & Adventure : 0.033844765342960284\n",
      "Puzzle;Action & Adventure : 0.033844765342960284\n",
      "Entertainment;Creativity : 0.033844765342960284\n",
      "Entertainment;Action & Adventure : 0.033844765342960284\n",
      "Educational;Creativity : 0.033844765342960284\n",
      "Educational;Action & Adventure : 0.033844765342960284\n",
      "Education;Music & Video : 0.033844765342960284\n",
      "Education;Brain Games : 0.033844765342960284\n",
      "Education;Action & Adventure : 0.033844765342960284\n",
      "Adventure;Action & Adventure : 0.033844765342960284\n",
      "Video Players & Editors;Music & Video : 0.02256317689530686\n",
      "Sports;Action & Adventure : 0.02256317689530686\n",
      "Simulation;Pretend Play : 0.02256317689530686\n",
      "Puzzle;Creativity : 0.02256317689530686\n",
      "Music;Music & Video : 0.02256317689530686\n",
      "Entertainment;Pretend Play : 0.02256317689530686\n",
      "Casual;Education : 0.02256317689530686\n",
      "Board;Action & Adventure : 0.02256317689530686\n",
      "Video Players & Editors;Creativity : 0.01128158844765343\n",
      "Trivia;Education : 0.01128158844765343\n",
      "Travel & Local;Action & Adventure : 0.01128158844765343\n",
      "Tools;Education : 0.01128158844765343\n",
      "Strategy;Education : 0.01128158844765343\n",
      "Strategy;Creativity : 0.01128158844765343\n",
      "Strategy;Action & Adventure : 0.01128158844765343\n",
      "Simulation;Education : 0.01128158844765343\n",
      "Role Playing;Brain Games : 0.01128158844765343\n",
      "Racing;Pretend Play : 0.01128158844765343\n",
      "Puzzle;Education : 0.01128158844765343\n",
      "Parenting;Brain Games : 0.01128158844765343\n",
      "Music & Audio;Music & Video : 0.01128158844765343\n",
      "Lifestyle;Pretend Play : 0.01128158844765343\n",
      "Lifestyle;Education : 0.01128158844765343\n",
      "Health & Fitness;Education : 0.01128158844765343\n",
      "Health & Fitness;Action & Adventure : 0.01128158844765343\n",
      "Entertainment;Education : 0.01128158844765343\n",
      "Communication;Creativity : 0.01128158844765343\n",
      "Comics;Creativity : 0.01128158844765343\n",
      "Casual;Music & Video : 0.01128158844765343\n",
      "Card;Action & Adventure : 0.01128158844765343\n",
      "Books & Reference;Education : 0.01128158844765343\n",
      "Art & Design;Pretend Play : 0.01128158844765343\n",
      "Art & Design;Action & Adventure : 0.01128158844765343\n",
      "Arcade;Pretend Play : 0.01128158844765343\n",
      "Adventure;Education : 0.01128158844765343\n"
     ]
    }
   ],
   "source": [
    "display_table(google_data_final, 9)"
   ]
  },
  {
   "cell_type": "markdown",
   "metadata": {},
   "source": [
    "The immediate difference in the Google Play `Genre` frequency table is that towards the bottom half of the list, we can see that apps are allowed to have multiple genres. This may muddy our results as we move forward so we will use the `Category` table from now on. We can see that our analysis from `Category` table is confirmed by the amount of practical genres that are reprsented.\n",
    "\n",
    "While we are unable to present a recommended profile for the two markets yet, we can say that the App Store is dominated by more fun apps while the Google Play Store has a more diverse offering.\n",
    "\n",
    "## Most Popular Apps by Genre on the App Store\n",
    "---\n",
    "\n",
    "The previous frequency tables gave us information on the which genres dominate the two markets. Now we want to find out which genre are the most popular with users. For the Google Play data we can easily use the `Installs` section, but the App Store is missing this data. We will use the `rating_count_tot` as a proxy.\n",
    "\n",
    "Now we will calculate the average number of user ratings for each genre in the App Store."
   ]
  },
  {
   "cell_type": "code",
   "execution_count": 19,
   "metadata": {
    "collapsed": false
   },
   "outputs": [
    {
     "name": "stdout",
     "output_type": "stream",
     "text": [
      "News :  21248.023255813954\n",
      "Health & Fitness :  23298.015384615384\n",
      "Education :  7003.983050847458\n",
      "Medical :  612.0\n",
      "Book :  39758.5\n",
      "Photo & Video :  28441.54375\n",
      "Productivity :  21028.410714285714\n",
      "Navigation :  86090.33333333333\n",
      "Business :  7491.117647058823\n",
      "Utilities :  18684.456790123455\n",
      "Food & Drink :  33333.92307692308\n",
      "Entertainment :  14029.830708661417\n",
      "Music :  57326.530303030304\n",
      "Travel :  28243.8\n",
      "Reference :  74942.11111111111\n",
      "Catalogs :  4004.0\n",
      "Weather :  52279.892857142855\n",
      "Shopping :  26919.690476190477\n",
      "Lifestyle :  16485.764705882353\n",
      "Social Networking :  71548.34905660378\n",
      "Games :  22788.6696905016\n",
      "Finance :  31467.944444444445\n",
      "Sports :  23008.898550724636\n"
     ]
    }
   ],
   "source": [
    "prime_genre_freq_table = freq_table(apple_data_final, 11)\n",
    "\n",
    "for genre in prime_genre_freq_table:\n",
    "    total = 0\n",
    "    len_genre = 0\n",
    "    \n",
    "    for row in apple_data_final:\n",
    "        genre_app = row[11]\n",
    "        if genre_app == genre:\n",
    "            tot_user_ratings = float(row[5])\n",
    "            total += tot_user_ratings\n",
    "            len_genre += 1\n",
    "    \n",
    "    avg_tot_user_ratings = total / len_genre\n",
    "    \n",
    "    print(genre, ': ', avg_tot_user_ratings)          "
   ]
  },
  {
   "cell_type": "markdown",
   "metadata": {},
   "source": [
    "We can see above that Navigation has the highest number of ratings on average but Google Maps is a popular app for Navigation so let's see how weighted this field is with popular apps."
   ]
  },
  {
   "cell_type": "code",
   "execution_count": 20,
   "metadata": {
    "collapsed": false
   },
   "outputs": [
    {
     "name": "stdout",
     "output_type": "stream",
     "text": [
      "Waze - GPS Navigation, Maps & Real-time Traffic :  345046\n",
      "Google Maps - Navigation & Transit :  154911\n",
      "Geocaching® :  12811\n",
      "CoPilot GPS – Car Navigation & Offline Maps :  3582\n",
      "ImmobilienScout24: Real Estate Search in Germany :  187\n",
      "Railway Route Search :  5\n"
     ]
    }
   ],
   "source": [
    "for app in apple_data_final:\n",
    "    if app[11] == 'Navigation':\n",
    "        print(app[1], ': ', app[5])"
   ]
  },
  {
   "cell_type": "markdown",
   "metadata": {},
   "source": [
    "We can see that the two most dominating apps on this list are Google Maps and Waze. The navigation app market would not provide much opputunity for advertisement. This would make it difficult to break in to the Navigation map market. Let's investigate our next option: Reference."
   ]
  },
  {
   "cell_type": "code",
   "execution_count": 21,
   "metadata": {
    "collapsed": false
   },
   "outputs": [
    {
     "name": "stdout",
     "output_type": "stream",
     "text": [
      "Bible :  985920\n",
      "Dictionary.com Dictionary & Thesaurus :  200047\n",
      "Dictionary.com Dictionary & Thesaurus for iPad :  54175\n",
      "Google Translate :  26786\n",
      "Muslim Pro: Ramadan 2017 Prayer Times, Azan, Quran :  18418\n",
      "New Furniture Mods - Pocket Wiki & Game Tools for Minecraft PC Edition :  17588\n",
      "Merriam-Webster Dictionary :  16849\n",
      "Night Sky :  12122\n",
      "City Maps for Minecraft PE - The Best Maps for Minecraft Pocket Edition (MCPE) :  8535\n",
      "LUCKY BLOCK MOD ™ for Minecraft PC Edition - The Best Pocket Wiki & Mods Installer Tools :  4693\n",
      "GUNS MODS for Minecraft PC Edition - Mods Tools :  1497\n",
      "Guides for Pokémon GO - Pokemon GO News and Cheats :  826\n",
      "WWDC :  762\n",
      "Horror Maps for Minecraft PE - Download The Scariest Maps for Minecraft Pocket Edition (MCPE) Free :  718\n",
      "VPN Express :  14\n",
      "Real Bike Traffic Rider Virtual Reality Glasses :  8\n",
      "教えて!goo :  0\n",
      "Jishokun-Japanese English Dictionary & Translator :  0\n"
     ]
    }
   ],
   "source": [
    "for app in apple_data_final:\n",
    "    if app[11] == 'Reference':\n",
    "        print(app[1], ': ', app[5])"
   ]
  },
  {
   "cell_type": "markdown",
   "metadata": {},
   "source": [
    "We can see that the Bible app and the Dictionary.com app dominate this section of the market. If we create a simliar app and analyzed further to see what features could be provided that these competitors lack, then there might be some room to work here. Even better, we could take a popular book or subject and create our own unique reference for ourselves so as to corner that market for ourselves. Lastly we will check the Social Networking option."
   ]
  },
  {
   "cell_type": "code",
   "execution_count": 22,
   "metadata": {
    "collapsed": false
   },
   "outputs": [
    {
     "name": "stdout",
     "output_type": "stream",
     "text": [
      "Facebook :  2974676\n",
      "Pinterest :  1061624\n",
      "Skype for iPhone :  373519\n",
      "Messenger :  351466\n",
      "Tumblr :  334293\n",
      "WhatsApp Messenger :  287589\n",
      "Kik :  260965\n",
      "ooVoo – Free Video Call, Text and Voice :  177501\n",
      "TextNow - Unlimited Text + Calls :  164963\n",
      "Viber Messenger – Text & Call :  164249\n",
      "Followers - Social Analytics For Instagram :  112778\n",
      "MeetMe - Chat and Meet New People :  97072\n",
      "We Heart It - Fashion, wallpapers, quotes, tattoos :  90414\n",
      "InsTrack for Instagram - Analytics Plus More :  85535\n",
      "Tango - Free Video Call, Voice and Chat :  75412\n",
      "LinkedIn :  71856\n",
      "Match™ - #1 Dating App. :  60659\n",
      "Skype for iPad :  60163\n",
      "POF - Best Dating App for Conversations :  52642\n",
      "Timehop :  49510\n",
      "Find My Family, Friends & iPhone - Life360 Locator :  43877\n",
      "Whisper - Share, Express, Meet :  39819\n",
      "Hangouts :  36404\n",
      "LINE PLAY - Your Avatar World :  34677\n",
      "WeChat :  34584\n",
      "Badoo - Meet New People, Chat, Socialize. :  34428\n",
      "Followers + for Instagram - Follower Analytics :  28633\n",
      "GroupMe :  28260\n",
      "Marco Polo Video Walkie Talkie :  27662\n",
      "Miitomo :  23965\n",
      "SimSimi :  23530\n",
      "Grindr - Gay and same sex guys chat, meet and date :  23201\n",
      "Wishbone - Compare Anything :  20649\n",
      "imo video calls and chat :  18841\n",
      "After School - Funny Anonymous School News :  18482\n",
      "Quick Reposter - Repost, Regram and Reshare Photos :  17694\n",
      "Weibo HD :  16772\n",
      "Repost for Instagram :  15185\n",
      "Live.me – Live Video Chat & Make Friends Nearby :  14724\n",
      "Nextdoor :  14402\n",
      "Followers Analytics for Instagram - InstaReport :  13914\n",
      "YouNow: Live Stream Video Chat :  12079\n",
      "FollowMeter for Instagram - Followers Tracking :  11976\n",
      "LINE :  11437\n",
      "eHarmony™ Dating App - Meet Singles :  11124\n",
      "Discord - Chat for Gamers :  9152\n",
      "QQ :  9109\n",
      "Telegram Messenger :  7573\n",
      "Weibo :  7265\n",
      "Periscope - Live Video Streaming Around the World :  6062\n",
      "Chat for Whatsapp - iPad Version :  5060\n",
      "QQ HD :  5058\n",
      "Followers Analysis Tool For Instagram App Free :  4253\n",
      "live.ly - live video streaming :  4145\n",
      "Houseparty - Group Video Chat :  3991\n",
      "SOMA Messenger :  3232\n",
      "Monkey :  3060\n",
      "Down To Lunch :  2535\n",
      "Flinch - Video Chat Staring Contest :  2134\n",
      "Highrise - Your Avatar Community :  2011\n",
      "LOVOO - Dating Chat :  1985\n",
      "PlayStation®Messages :  1918\n",
      "BOO! - Video chat camera with filters & stickers :  1805\n",
      "Qzone :  1649\n",
      "Chatous - Chat with new people :  1609\n",
      "Kiwi - Q&A :  1538\n",
      "GhostCodes - a discovery app for Snapchat :  1313\n",
      "Jodel :  1193\n",
      "FireChat :  1037\n",
      "Google Duo - simple video calling :  1033\n",
      "Fiesta by Tango - Chat & Meet New People :  885\n",
      "Google Allo — smart messaging :  862\n",
      "Peach — share vividly :  727\n",
      "Hey! VINA - Where Women Meet New Friends :  719\n",
      "Battlefield™ Companion :  689\n",
      "All Devices for WhatsApp - Messenger for iPad :  682\n",
      "Chat for Pokemon Go - GoChat :  500\n",
      "IAmNaughty – Dating App to Meet New People Online :  463\n",
      "Qzone HD :  458\n",
      "Zenly - Locate your friends in realtime :  427\n",
      "League of Legends Friends :  420\n",
      "豆瓣 :  407\n",
      "Candid - Speak Your Mind Freely :  398\n",
      "知乎 :  397\n",
      "Selfeo :  366\n",
      "Fake-A-Location Free ™ :  354\n",
      "Popcorn Buzz - Free Group Calls :  281\n",
      "Fam — Group video calling for iMessage :  279\n",
      "QQ International :  274\n",
      "Ameba :  269\n",
      "SoundCloud Pulse: for creators :  240\n",
      "Tantan :  235\n",
      "Cougar Dating & Life Style App for Mature Women :  213\n",
      "Rawr Messenger - Dab your chat :  180\n",
      "WhenToPost: Best Time to Post Photos for Instagram :  158\n",
      "Inke—Broadcast an amazing life :  147\n",
      "Mustknow - anonymous video Q&A :  53\n",
      "CTFxCmoji :  39\n",
      "Lobi :  36\n",
      "Chain: Collaborate On MyVideo Story/Group Video :  35\n",
      "botman - Real time video chat :  7\n",
      "BestieBox :  0\n",
      "MATCH ON LINE chat :  0\n",
      "niconico ch :  0\n",
      "LINE BLOG :  0\n",
      "bit-tube - Live Stream Video Chat :  0\n"
     ]
    }
   ],
   "source": [
    "for app in apple_data_final:\n",
    "    if app[11] == 'Social Networking':\n",
    "        print(app[1], ': ', app[5])"
   ]
  },
  {
   "cell_type": "markdown",
   "metadata": {},
   "source": [
    "Finally, we see here that Social Networking shows a wealth of reviews. Social Networking boasts some of the highest numbers for our 3 sectors that we have looked at in the App Store. If we were able to create an app that worked in the Social Networking sector, we might have a chance at higher profits.\n",
    "\n",
    "Out of what we have looked at I would recommend that the company look into making a Social Networking app. This market gets a lot of facetime from the user and we also don't have to worry so much on creating content. Our users would create most of the content for us. As has already been done by other apps, we can use strategic advertising based on what our users are interested in. There would be less guess work on this because the users allow us to see there interests based on their content creation.\n",
    "\n",
    "Next, we will analyze the Google Play market.\n",
    "\n",
    "## Most Popular Apps by Genre on Google Play\n",
    "---\n",
    "\n",
    "Lets take a quick look of the frequencys values for the Google Play apps."
   ]
  },
  {
   "cell_type": "code",
   "execution_count": 23,
   "metadata": {
    "collapsed": false
   },
   "outputs": [
    {
     "name": "stdout",
     "output_type": "stream",
     "text": [
      "1,000,000+ : 15.726534296028879\n",
      "100,000+ : 11.552346570397113\n",
      "10,000,000+ : 10.548285198555957\n",
      "10,000+ : 10.198555956678701\n",
      "1,000+ : 8.393501805054152\n",
      "100+ : 6.915613718411552\n",
      "5,000,000+ : 6.825361010830325\n",
      "500,000+ : 5.561823104693141\n",
      "50,000+ : 4.7721119133574\n",
      "5,000+ : 4.512635379061372\n",
      "10+ : 3.5424187725631766\n",
      "500+ : 3.2490974729241873\n",
      "50,000,000+ : 2.3014440433213\n",
      "100,000,000+ : 2.1322202166064983\n",
      "50+ : 1.917870036101083\n",
      "5+ : 0.78971119133574\n",
      "1+ : 0.5076714801444043\n",
      "500,000,000+ : 0.2707581227436823\n",
      "1,000,000,000+ : 0.22563176895306858\n",
      "0+ : 0.04512635379061372\n",
      "0 : 0.01128158844765343\n"
     ]
    }
   ],
   "source": [
    "display_table(google_data_final, 5)"
   ]
  },
  {
   "cell_type": "markdown",
   "metadata": {},
   "source": [
    "The first notable things is that the install numbers lack precision. Luckily for us, we don't need very precise numbers for our analysis since we are looking at the averages across the categories. We will also need to clean up those values by removing the '+' and the commas."
   ]
  },
  {
   "cell_type": "code",
   "execution_count": 24,
   "metadata": {
    "collapsed": false
   },
   "outputs": [
    {
     "name": "stdout",
     "output_type": "stream",
     "text": [
      "BOOKS_AND_REFERENCE :  8767811.894736841\n",
      "HEALTH_AND_FITNESS :  4188821.9853479853\n",
      "COMMUNICATION :  38456119.167247385\n",
      "WEATHER :  5074486.197183099\n",
      "COMICS :  817657.2727272727\n",
      "PHOTOGRAPHY :  17840110.40229885\n",
      "FOOD_AND_DRINK :  1924897.7363636363\n",
      "DATING :  854028.8303030303\n",
      "MAPS_AND_NAVIGATION :  4056941.7741935486\n",
      "FAMILY :  3695641.8198090694\n",
      "MEDICAL :  120550.61980830671\n",
      "SOCIAL :  23253652.127118643\n",
      "SPORTS :  3638640.1428571427\n",
      "EDUCATION :  1833495.145631068\n",
      "TRAVEL_AND_LOCAL :  13984077.710144928\n",
      "ART_AND_DESIGN :  1986335.0877192982\n",
      "FINANCE :  1387692.475609756\n",
      "EVENTS :  253542.22222222222\n",
      "PRODUCTIVITY :  16787331.344927534\n",
      "SHOPPING :  7036877.311557789\n",
      "AUTO_AND_VEHICLES :  647317.8170731707\n",
      "BUSINESS :  1712290.1474201474\n",
      "TOOLS :  10801391.298666667\n",
      "BEAUTY :  513151.88679245283\n",
      "HOUSE_AND_HOME :  1331540.5616438356\n",
      "ENTERTAINMENT :  11640705.88235294\n",
      "NEWS_AND_MAGAZINES :  9549178.467741935\n",
      "PERSONALIZATION :  5201482.6122448975\n",
      "PARENTING :  542603.6206896552\n",
      "LIBRARIES_AND_DEMO :  638503.734939759\n",
      "GAME :  15588015.603248259\n",
      "VIDEO_PLAYERS :  24727872.452830188\n",
      "LIFESTYLE :  1437816.2687861272\n"
     ]
    }
   ],
   "source": [
    "category_freq_table = freq_table(google_data_final, 1)\n",
    "\n",
    "for category in category_freq_table:\n",
    "    total = 0\n",
    "    len_category = 0\n",
    "    \n",
    "    for row in google_data_final:\n",
    "        category_app = row[1]\n",
    "        if category_app == category:\n",
    "            installs = row[5]\n",
    "            installs = installs.replace('+', '')\n",
    "            installs = installs.replace(',', '')\n",
    "            installs = float(installs)\n",
    "            total += installs\n",
    "            len_category += 1\n",
    "    \n",
    "    avg_installs = total / len_category\n",
    "    print(category, ': ', avg_installs)"
   ]
  },
  {
   "cell_type": "markdown",
   "metadata": {},
   "source": [
    "Our most popular category is communication, but we have seen that a social app will work will in the App Store. Social ranks in at 3rd on the list, so let's dive into it further to see if there is potentianl."
   ]
  },
  {
   "cell_type": "code",
   "execution_count": 25,
   "metadata": {
    "collapsed": false
   },
   "outputs": [
    {
     "name": "stdout",
     "output_type": "stream",
     "text": [
      "Facebook :  1,000,000,000+\n",
      "Facebook Lite :  500,000,000+\n",
      "Tumblr :  100,000,000+\n",
      "Social network all in one 2018 :  100,000+\n",
      "Pinterest :  100,000,000+\n",
      "TextNow - free text + calls :  10,000,000+\n",
      "Google+ :  1,000,000,000+\n",
      "The Messenger App :  1,000,000+\n",
      "Messenger Pro :  1,000,000+\n",
      "Free Messages, Video, Chat,Text for Messenger Plus :  1,000,000+\n",
      "Telegram X :  5,000,000+\n",
      "The Video Messenger App :  100,000+\n",
      "Jodel - The Hyperlocal App :  1,000,000+\n",
      "Hide Something - Photo, Video :  5,000,000+\n",
      "Love Sticker :  1,000,000+\n",
      "Web Browser & Fast Explorer :  5,000,000+\n",
      "LiveMe - Video chat, new friends, and make money :  10,000,000+\n",
      "VidStatus app - Status Videos & Status Downloader :  5,000,000+\n",
      "Love Images :  1,000,000+\n",
      "Web Browser ( Fast & Secure Web Explorer) :  500,000+\n",
      "SPARK - Live random video chat & meet new people :  5,000,000+\n",
      "Golden telegram :  50,000+\n",
      "Facebook Local :  1,000,000+\n",
      "Meet – Talk to Strangers Using Random Video Chat :  5,000,000+\n",
      "MobilePatrol Public Safety App :  1,000,000+\n",
      "💘 WhatsLov: Smileys of love, stickers and GIF :  1,000,000+\n",
      "HTC Social Plugin - Facebook :  10,000,000+\n",
      "Quora :  10,000,000+\n",
      "Kate Mobile for VK :  10,000,000+\n",
      "Family GPS tracker KidControl + GPS by SMS Locator :  1,000,000+\n",
      "Moment :  1,000,000+\n",
      "Text Me: Text Free, Call Free, Second Phone Number :  10,000,000+\n",
      "Text Free: WiFi Calling App :  5,000,000+\n",
      "Badoo - Free Chat & Dating App :  100,000,000+\n",
      "Text free - Free Text + Call :  10,000,000+\n",
      "Tango - Live Video Broadcast :  100,000,000+\n",
      "ooVoo Video Calls, Messaging & Stories :  50,000,000+\n",
      "Whisper :  5,000,000+\n",
      "Blogger :  5,000,000+\n",
      "Bloglovin' :  500,000+\n",
      "Blogaway for Android (Blogger) :  100,000+\n",
      "Instagram :  1,000,000,000+\n",
      "TwitCasting Live :  1,000,000+\n",
      "Stream - Live Video Community :  500,000+\n",
      "YouNow: Live Stream Video Chat :  10,000,000+\n",
      "Mirrativ: Live Stream Any App :  500,000+\n",
      "Snapchat :  500,000,000+\n",
      "Banjo :  1,000,000+\n",
      "We Heart It :  10,000,000+\n",
      "MeetMe: Chat & Meet New People :  50,000,000+\n",
      "Timehop :  5,000,000+\n",
      "Frontback - Social Photos :  1,000,000+\n",
      "LinkedIn :  100,000,000+\n",
      "Path :  10,000,000+\n",
      "SayHi Chat, Meet New People :  10,000,000+\n",
      "Tapatalk - 100,000+ Forums :  10,000,000+\n",
      "Couple - Relationship App :  1,000,000+\n",
      "Nextdoor - Local neighborhood news & classifieds :  5,000,000+\n",
      "LOVOO :  10,000,000+\n",
      "Jaumo Dating, Flirt & Live Video :  10,000,000+\n",
      "Patook - make platonic friends :  100,000+\n",
      "Zello PTT Walkie Talkie :  50,000,000+\n",
      "textPlus: Free Text & Calls :  10,000,000+\n",
      "magicApp Calling & Messaging :  10,000,000+\n",
      "Dating App, Flirt & Chat : W-Match :  10,000,000+\n",
      "uCiC- Videos and Photos on demand :  100,000+\n",
      "Meetup :  5,000,000+\n",
      "POF Free Dating App :  50,000,000+\n",
      "Tagged - Meet, Chat & Dating :  10,000,000+\n",
      "SKOUT - Meet, Chat, Go Live :  50,000,000+\n",
      "Mico- Stranger Chat Random video Chat, Live, Meet :  10,000,000+\n",
      "Waplog - Free Chat, Dating App, Meet Singles :  10,000,000+\n",
      "Tik Tok - including musical.ly :  100,000,000+\n",
      "B-Messenger Video Chat :  1,000,000+\n",
      "BIGO LIVE - Live Stream :  100,000,000+\n",
      "Greeting Cards & Wishes :  500,000+\n",
      "Share G - Images Sharing - Wallpapers App :  10,000+\n",
      "H letter images :  1,000+\n",
      "Instachat 😜 :  5,000,000+\n",
      "Fame Boom for Real Followers, Likes :  5,000,000+\n",
      "FollowMeter for Instagram :  1,000,000+\n",
      "Mali J :  10,000+\n",
      "KDRAMA Amino for K-Drama Fans :  100,000+\n",
      "KPOP Amino for K-Pop Entertainment :  100,000+\n",
      "EXO-L Amino for EXO Fans :  50,000+\n",
      "Verdad o Reto :  500,000+\n",
      "pixiv :  1,000,000+\n",
      "Join R, Community Engagement :  1,000+\n",
      "U LIVE – Video Chat & Stream :  1,000,000+\n",
      "See U - Random video chat, video chat :  100,000+\n",
      "What U See :  100,000+\n",
      "U-Report :  10,000+\n",
      "Meet U - Get Friends for Snapchat, Kik & Instagram :  100,000+\n",
      "VMate Lite - Funny Short Videos Social Network :  1,000,000+\n",
      "V Bucks ProTips New :  1,000+\n",
      "i-share AF/KLM (AFKL ishare) :  100+\n",
      "Eternal Light AG :  100+\n",
      "Message AI - Write Better Messages (Free) :  100+\n",
      "Jamaa Amino for Animal Jam :  10,000+\n",
      "Legend - Animate Text in Video :  10,000,000+\n",
      "GUYZ - Gay Chat & Gay Dating :  1,000,000+\n",
      "eChallan Andhra Pradesh (AP) :  1,000+\n",
      "Snaappy – 3D fun AR core communication platform :  1,000,000+\n",
      "Undertale AU Amino :  50,000+\n",
      "Au Pair :  10,000+\n",
      "Media Sosial TNI AU :  1,000+\n",
      "BA 3 Banjarmasin :  10+\n",
      "iCard BD Plus :  500+\n",
      "Movement BE :  100+\n",
      "YAY - TBH :  100,000+\n",
      "Find My Friends :  10,000,000+\n",
      "BG LINKED (BGLINKED) :  1,000+\n",
      "Zdravei.BG :  1,000+\n",
      "BGKontakti London BG Kontakti :  500+\n",
      "BGKontakti Bayern BG Kontakti :  1,000+\n",
      "BGKontakti Vienna BG Kontakti :  1,000+\n",
      "Discípulos em BH :  100+\n",
      "BH Connect :  1+\n",
      "Gayvox - Gay Lesbian Bi Dating :  500,000+\n",
      "Grindr - Gay chat :  10,000,000+\n",
      "Lesbian Chat & Dating - SPICY :  1,000,000+\n",
      "Alumni BJ :  100+\n",
      "VK :  100,000,000+\n",
      "BK Traffic Control cum Chart :  10,000+\n",
      "Daily Murli Saar Widget :  10,000+\n",
      "Myjob@BM :  100+\n",
      "bm-Events :  10+\n",
      "BOO! - Next Generation Messenger :  1,000,000+\n",
      "Wishbone - Compare Anything :  1,000,000+\n",
      "BR Chat Bot :  1,000+\n",
      "Br Browser :  500+\n",
      "Dr B R Ambedkar (Jai Bhim) :  100,000+\n",
      "Dr. B.R.Ambedkar :  100,000+\n",
      "Black Social :  1,000+\n",
      "BT Communicator :  10,000+\n",
      "BT Dating -Find your match, help cupid, be social :  50,000+\n",
      "Fiesta by Tango - Find, Meet and Make New Friends :  1,000,000+\n",
      "Evasion.bz :  100+\n",
      "CB Heroes :  5+\n",
      "CG Districts :  1,000+\n",
      "Digi-TV.ch :  10,000+\n",
      "Students.ch :  1,000+\n",
      "CJ Gospel Hour :  100+\n",
      "Pekalongan CJ :  0+\n",
      "Hashtags For Likes.co :  50,000+\n",
      "CP Dialer :  50,000+\n",
      "C.P. CERVANTES (TOBARRA) :  5+\n",
      "Cyprus Police :  10,000+\n",
      "Rande.cz :  50,000+\n",
      "signály.cz :  1,000+\n",
      "DB Event App :  5,000+\n",
      "DC Comics Amino :  1,000+\n",
      "DF BugMeNot :  500+\n",
      "Noticias DF :  1,000+\n",
      "Periscope - Live Video :  10,000,000+\n",
      "Daddyhunt: Gay Dating :  500,000+\n",
      "Free phone calls, free texting SMS on free number :  10,000,000+\n",
      "Phone Tracker : Family Locator :  10,000,000+\n",
      "HOLLA Live: Meet New People via Random Video Chat :  5,000,000+\n",
      "Dating.dk :  100,000+\n",
      "DK Murali :  500+\n",
      "GirlTalk.dk :  100+\n",
      "+Download 4 Instagram Twitter :  1,000,000+\n",
      "DM Me - Chat :  10,000+\n",
      "DM for IG 😘 - Image & Video Saver for Instagram :  5,000+\n",
      "Auto DM for Twitter 🔥 :  1,000+\n",
      "DM Storage (for twitter) :  100+\n",
      "Fake Chat (Direct Message) :  500,000+\n",
      "Otto DM :  10+\n",
      "DN Blog :  10+\n",
      "DP and Status for WhatsApp 2018 :  100,000+\n",
      "Dp For Whatsapp :  5,000+\n",
      "Profile Pictures and DP for Whatsapp :  5,000+\n",
      "Dp for Facebook :  5,000+\n",
      "Best DP and Status :  10,000+\n",
      "Instant DP Downloader for Instagram :  5,000+\n",
      "DP Display Pictures Life Quotes Motivational GM :  5,000+\n",
      "Qeek for Instagram - Zoom profile insta DP :  500,000+\n",
      "DV Statistics :  100+\n",
      "DW Streaming :  1,000+\n",
      "News Dz :  10+\n",
      "quran-DZ :  10+\n",
      "TN e Sevai TN EB Bill Patta Citta EC Birth All Hub :  5,000+\n",
      "TNEB Bill Online Payment (Tamil) :  5,000+\n",
      "UP EB Bill Payment & Details :  50+\n",
      "TN EC Online New :  1,000+\n",
      "TN Patta /Chitta /EC New :  100+\n",
      "EG Way Life :  50+\n",
      "Equestria Amino for MLP :  50,000+\n",
      "Ek Maratha :  10,000+\n",
      "Hum Ek Hain 2.02 :  10+\n",
      "Sabka Malik Ek Sai :  1,000+\n",
      "EO RAIPUR :  10+\n",
      "Anime et Manga Amino en Français :  50,000+\n",
      "Hornet - Gay Social Network :  5,000,000+\n",
      "Amino: Communities and Chats :  10,000,000+\n",
      "European Solidarity Corps :  1,000+\n",
      "Reisedealz.eu :  10+\n",
      "Eddsworld Amino :  10,000+\n",
      "Rejoin Your Ex :  100+\n",
      "Amleen Ey :  1+\n",
      "Coupe Adhémar EY 2017 :  50+\n",
      "EZ Video Download for Facebook :  1,000,000+\n",
      "Messages, Text and Video Chat for Messenger :  10,000,000+\n",
      "All Social Networks :  1,000,000+\n",
      "Messenger Messenger :  10,000,000+\n",
      "Facebook Creator :  1,000,000+\n",
      "Swift for Facebook Lite :  500,000+\n",
      "Friendly for Facebook :  1,000,000+\n",
      "Faster for Facebook Lite :  1,000,000+\n",
      "Puffin for Facebook :  500,000+\n",
      "Profile Tracker - Who Viewed My Facebook Profile :  500,000+\n",
      "Pink Color for Facebook :  500,000+\n",
      "Messenger :  10,000,000+\n",
      "Stickers for Imo, fb, whatsapp :  10,000+\n",
      "Who Viewed My Facebook Profile - Stalkers Visitors :  5,000,000+\n",
      "Downloader plus for FB :  500+\n",
      "MB Notifications for FB (Free) :  100,000+\n",
      "Phoenix - Facebook & Messenger :  100,000+\n",
      "Faster Social for Facebook :  100,000+\n",
      "Check Your Visitors on FB ? :  5,000+\n",
      "Stickers for Facebook :  1,000,000+\n",
      "Lite Messenger for Facebook Lite :  10,000+\n",
      "Mini for Facebook lite :  10,000+\n",
      "FB Advanced Search :  50+\n",
      "funny Image Comments for FB :  5,000+\n",
      "Unlimited Group Links - Whatsapp, FB, Telegram :  10,000+\n",
      "FCB Connect - FC Barcelona :  50,000+\n",
      "Frases Cristianas de Esperanza y Fe :  100+\n",
      "FutureNet your social app :  100,000+\n",
      "Alarm.fo – choose your info :  1,000+\n",
      "FunForMobile Ringtones & Chat :  5,000,000+\n",
      "Chat For Strangers - Video Chat :  100,000+\n",
      "Fr Daoud Lamei :  100,000+\n",
      "Naruto & Boruto FR :  100+\n",
      "Frim: get new friends on local chat rooms :  5,000,000+\n"
     ]
    }
   ],
   "source": [
    "for row in google_data_final:\n",
    "    if row[1] == 'SOCIAL':\n",
    "        print(row[0], ': ', row[5])"
   ]
  },
  {
   "cell_type": "markdown",
   "metadata": {},
   "source": [
    "We can see that there is a a strong market here with the top apps bringing in over 1 billion downloads. While we won't expect this kind of success, with a little inovation, the social market could be the best entrance into both the App Store and the Google Play markets.\n",
    "\n",
    "## Conclusion\n",
    "---\n",
    "\n",
    "In this project, I was attempting to give a app profile recommendation for a company that makes free apps for english speaker and plans to profit from in app advertising. We collected data from the two largest app stores, the App Store and Google Play. We cleaned the data to remove an errors or unrelated data before finally analyzing the data. We found that a popular section of both markets is the social market. With this information, we came up with the recommendation to create a social app with some inovation to separate itself from the crowd."
   ]
  }
 ],
 "metadata": {
  "kernelspec": {
   "display_name": "Python 3",
   "language": "python",
   "name": "python3"
  },
  "language_info": {
   "codemirror_mode": {
    "name": "ipython",
    "version": 3
   },
   "file_extension": ".py",
   "mimetype": "text/x-python",
   "name": "python",
   "nbconvert_exporter": "python",
   "pygments_lexer": "ipython3",
   "version": "3.4.3"
  }
 },
 "nbformat": 4,
 "nbformat_minor": 2
}
