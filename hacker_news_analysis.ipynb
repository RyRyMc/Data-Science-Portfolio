{
 "cells": [
  {
   "cell_type": "markdown",
   "metadata": {
    "collapsed": true
   },
   "source": [
    "# Exploring Hacker News Posts\n",
    "\n",
    "In this project, we will be explore a data set of submissions to the site \"Hacker News\". Hacker News is a site similiar to Reddit that allows user to post information and then the post can be commented and voted on. While Hacker News is similiar to Reddit, it is geared towards the Technology and Start up market primarily.\n",
    "\n",
    "The data set that we will be working with can be found [here](https://www.kaggle.com/hacker-news/hacker-news-posts). We will specifically be looking at posts titled `Ask HN` and `Show HN` as these posts are geared directly to the entire Hacker News community. `Ask HN` is used to get input on a question from the Hacker News community where as `Show HN` is used to direct the community to something of interest.\n",
    "\n",
    "We will be comparing these two types of posts to answer these questions:\n",
    "\n",
    "* Do `Ask HN` or `Show HN` receive more comments on average?\n",
    "* Do posts created at a certain time receive more comments on average?\n",
    "\n",
    "## Importing the Data Set\n",
    "\n",
    "Lets begin by importing our data set:"
   ]
  },
  {
   "cell_type": "code",
   "execution_count": 1,
   "metadata": {
    "collapsed": false
   },
   "outputs": [
    {
     "name": "stdout",
     "output_type": "stream",
     "text": [
      "['id', 'title', 'url', 'num_points', 'num_comments', 'author', 'created_at']\n",
      "\n",
      "\n",
      "['12224879', 'Interactive Dynamic Video', 'http://www.interactivedynamicvideo.com/', '386', '52', 'ne0phyte', '8/4/2016 11:52']\n",
      "\n",
      "\n",
      "['10975351', 'How to Use Open Source and Shut the Fuck Up at the Same Time', 'http://hueniverse.com/2016/01/26/how-to-use-open-source-and-shut-the-fuck-up-at-the-same-time/', '39', '10', 'josep2', '1/26/2016 19:30']\n",
      "\n",
      "\n",
      "['11964716', \"Florida DJs May Face Felony for April Fools' Water Joke\", 'http://www.thewire.com/entertainment/2013/04/florida-djs-april-fools-water-joke/63798/', '2', '1', 'vezycash', '6/23/2016 22:20']\n",
      "\n",
      "\n"
     ]
    }
   ],
   "source": [
    "#Reading in the data set\n",
    "from csv import reader\n",
    "opened_file = open(\"hacker_news.csv\")\n",
    "read_file = reader(opened_file)\n",
    "hn = list(read_file)\n",
    "\n",
    "for row in hn[:4]:\n",
    "    print(row)\n",
    "    print('\\n')"
   ]
  },
  {
   "cell_type": "markdown",
   "metadata": {},
   "source": [
    "## Removing Header Row\n",
    "\n",
    "Next we will remove the headers from the data, but we will save them to variable for later use."
   ]
  },
  {
   "cell_type": "code",
   "execution_count": 2,
   "metadata": {
    "collapsed": false
   },
   "outputs": [
    {
     "name": "stdout",
     "output_type": "stream",
     "text": [
      "['id', 'title', 'url', 'num_points', 'num_comments', 'author', 'created_at']\n",
      "\n",
      "\n",
      "['12224879', 'Interactive Dynamic Video', 'http://www.interactivedynamicvideo.com/', '386', '52', 'ne0phyte', '8/4/2016 11:52']\n",
      "\n",
      "\n",
      "['10975351', 'How to Use Open Source and Shut the Fuck Up at the Same Time', 'http://hueniverse.com/2016/01/26/how-to-use-open-source-and-shut-the-fuck-up-at-the-same-time/', '39', '10', 'josep2', '1/26/2016 19:30']\n",
      "\n",
      "\n",
      "['11964716', \"Florida DJs May Face Felony for April Fools' Water Joke\", 'http://www.thewire.com/entertainment/2013/04/florida-djs-april-fools-water-joke/63798/', '2', '1', 'vezycash', '6/23/2016 22:20']\n",
      "\n",
      "\n",
      "['11919867', 'Technology ventures: From Idea to Enterprise', 'https://www.amazon.com/Technology-Ventures-Enterprise-Thomas-Byers/dp/0073523429', '3', '1', 'hswarna', '6/17/2016 0:01']\n",
      "\n",
      "\n"
     ]
    }
   ],
   "source": [
    "# Save header and then remove from the data set\n",
    "headers = hn[0]\n",
    "hn = hn[1:]\n",
    "# Confirming that the header has been removed\n",
    "print(headers)\n",
    "print('\\n')\n",
    "\n",
    "for row in hn[:4]:\n",
    "    print(row)\n",
    "    print('\\n')"
   ]
  },
  {
   "cell_type": "markdown",
   "metadata": {},
   "source": [
    "## Separting Ask, Show, and Other Posts\n",
    "\n",
    "Next we will separte the `Ask HN`, `Show HN`, and other posts so that we can use them to answer our questions."
   ]
  },
  {
   "cell_type": "code",
   "execution_count": 3,
   "metadata": {
    "collapsed": false
   },
   "outputs": [
    {
     "name": "stdout",
     "output_type": "stream",
     "text": [
      "There are 1,744 posts in Ask Posts\n",
      "There are 1,162 posts in Show Posts\n",
      "There are 17,194 posts in Other Posts\n"
     ]
    }
   ],
   "source": [
    "ask_posts = []\n",
    "show_posts = []\n",
    "other_posts = []\n",
    "\n",
    "for row in hn:\n",
    "    # Store post title as lower case for easier sorting\n",
    "    title = row[1].lower()\n",
    "    \n",
    "    # Use str.startswith method to check titles\n",
    "    if title.startswith('ask hn'):\n",
    "        ask_posts.append(row)\n",
    "    elif title.startswith('show hn'):\n",
    "        show_posts.append(row)\n",
    "    else:\n",
    "        other_posts.append(row)\n",
    "        \n",
    "list_len_temp = \"There are {1:,} posts in {0}\"\n",
    "# Verify the lists lengths\n",
    "print(list_len_temp.format('Ask Posts', len(ask_posts)))\n",
    "print(list_len_temp.format('Show Posts', len(show_posts)))\n",
    "print(list_len_temp.format('Other Posts', len(other_posts)))"
   ]
  },
  {
   "cell_type": "markdown",
   "metadata": {},
   "source": [
    "## Calculating Average Number of Comments\n",
    "\n",
    "Now that we have separated out the `Ask HN` and the `Show HN` posts, we are able to find an answer to our first question:\n",
    "\n",
    "* Do `Ask HN` or `Show HN` receive more comments on average?"
   ]
  },
  {
   "cell_type": "code",
   "execution_count": 4,
   "metadata": {
    "collapsed": false
   },
   "outputs": [
    {
     "name": "stdout",
     "output_type": "stream",
     "text": [
      "Ask Posts had an average of 14.04 comments\n",
      "Show Posts had an average of 10.32 comments\n"
     ]
    }
   ],
   "source": [
    "total_ask_comments = 0\n",
    "\n",
    "#Looping through ask_posts to collect comment totals\n",
    "for row in ask_posts:\n",
    "    num_comments = int(row[4])\n",
    "    total_ask_comments += num_comments\n",
    "\n",
    "avg_ask_comments = total_ask_comments / len(ask_posts)\n",
    "\n",
    "avg_comments_temp = \"{} had an average of {:,.2f} comments\"\n",
    "print(avg_comments_temp.format('Ask Posts', avg_ask_comments))\n",
    "\n",
    "total_show_comments = 0\n",
    "\n",
    "# Looping through show_posts to collect comment totals\n",
    "for row in show_posts:\n",
    "    num_comments = int(row[4])\n",
    "    total_show_comments += num_comments\n",
    "    \n",
    "avg_show_comments = total_show_comments / len(show_posts)\n",
    "\n",
    "print(avg_comments_temp.format('Show Posts', avg_show_comments))"
   ]
  },
  {
   "cell_type": "markdown",
   "metadata": {},
   "source": [
    "So from our calculations we have found that posts that start with `Ask HN` have a higher number of comments on average.\n",
    "\n",
    "## Finding Ask Posts and Comments by Hour Created\n",
    "\n",
    "Now that we know that the `Ask HN` posts have more comments on average, we will focus on them for them for our next question. We will start by separating the `'created_at'` and `'num_comments'` from the `ask_posts` and then we will create dictionaries to sort them by hour."
   ]
  },
  {
   "cell_type": "code",
   "execution_count": 5,
   "metadata": {
    "collapsed": false
   },
   "outputs": [],
   "source": [
    "import datetime as dt\n",
    "\n",
    "results_list = []\n",
    "\n",
    "#Creates a separate list of lists with created date and number of comments\n",
    "for row in ask_posts:\n",
    "    created = row[6]\n",
    "    n_comments = int(row[4])\n",
    "    results_list.append([created, n_comments])\n",
    "    \n",
    "counts_by_hour = {}\n",
    "comments_by_hour = {}\n",
    "\n",
    "for row in results_list:\n",
    "    created = row[0]\n",
    "    dt_format = \"%m/%d/%Y %H:%M\"\n",
    "    #Creates a datetime object\n",
    "    created_dt = dt.datetime.strptime(created, dt_format)\n",
    "    #Extracts the hour of the datetime object\n",
    "    hour = created_dt.hour\n",
    "    \n",
    "    n_comments = int(row[1])\n",
    "    \n",
    "    #Sorts results into 2 dictionaries with hour being the key\n",
    "    #and posts and comments being the values\n",
    "    if hour not in counts_by_hour:\n",
    "        counts_by_hour[hour] = 1\n",
    "        comments_by_hour[hour] = n_comments\n",
    "    else:\n",
    "        counts_by_hour[hour] += 1\n",
    "        comments_by_hour[hour] += n_comments"
   ]
  },
  {
   "cell_type": "markdown",
   "metadata": {
    "collapsed": true
   },
   "source": [
    "## Calculating the Average Number of Comments for Ask HN Posts by Hour\n",
    "\n",
    "Next we can use our two dictionaries to create a list that will hold the average number of comments per hour."
   ]
  },
  {
   "cell_type": "code",
   "execution_count": 6,
   "metadata": {
    "collapsed": false
   },
   "outputs": [],
   "source": [
    "avg_by_hour = []\n",
    "\n",
    "#Creates a list of lists with the hour and the calculated\n",
    "#average number of comments\n",
    "for hour in comments_by_hour:\n",
    "    comments = comments_by_hour[hour]\n",
    "    posts = counts_by_hour[hour]\n",
    "    avg_comments = comments / posts\n",
    "    avg_by_hour.append([hour, avg_comments])"
   ]
  },
  {
   "cell_type": "markdown",
   "metadata": {},
   "source": [
    "## Sorting and Printing Values from the avg_by_hour"
   ]
  },
  {
   "cell_type": "code",
   "execution_count": 7,
   "metadata": {
    "collapsed": false
   },
   "outputs": [
    {
     "name": "stdout",
     "output_type": "stream",
     "text": [
      "[[8.127272727272727, 0], [11.383333333333333, 1], [23.810344827586206, 2], [7.796296296296297, 3], [7.170212765957447, 4], [10.08695652173913, 5], [9.022727272727273, 6], [7.852941176470588, 7], [10.25, 8], [5.5777777777777775, 9], [13.440677966101696, 10], [11.051724137931034, 11], [9.41095890410959, 12], [14.741176470588234, 13], [13.233644859813085, 14], [38.5948275862069, 15], [16.796296296296298, 16], [11.46, 17], [13.20183486238532, 18], [10.8, 19], [21.525, 20], [16.009174311926607, 21], [6.746478873239437, 22], [7.985294117647059, 23]]\n",
      "\n",
      "\n",
      "Top 5 Hours for Ask HN Posts Comments\n",
      "15:00: 38.59 average comments per post\n",
      "02:00: 23.81 average comments per post\n",
      "20:00: 21.52 average comments per post\n",
      "16:00: 16.80 average comments per post\n",
      "21:00: 16.01 average comments per post\n"
     ]
    }
   ],
   "source": [
    "swap_avg_by_hour = []\n",
    "\n",
    "#swaps the position of average comments and hour\n",
    "for row in avg_by_hour:\n",
    "    swap_avg_by_hour.append([row[1], row[0]])\n",
    "    \n",
    "print(swap_avg_by_hour)\n",
    "print('\\n')\n",
    "\n",
    "#Sorts list from highest avgerage comment to lowest\n",
    "sorted_swap = sorted(swap_avg_by_hour, reverse=True)\n",
    "\n",
    "print(\"Top 5 Hours for Ask HN Posts Comments\")\n",
    "\n",
    "#Converts hour back to a datetime object and formats both avg and\n",
    "#hour for printing\n",
    "for row in sorted_swap[:5]:\n",
    "    avg = row[0]\n",
    "    hour = dt.datetime.strptime(str(row[1]), \"%H\")\n",
    "    format_time = hour.strftime(\"%H:%M\")\n",
    "    avg_hour_template = \"{}: {:.2f} average comments per post\"\n",
    "    print(avg_hour_template.format(format_time, avg))"
   ]
  },
  {
   "cell_type": "markdown",
   "metadata": {
    "collapsed": true
   },
   "source": [
    "We can see here the top 5 hours to post to get comments. I live in Central Standard time. According to the data sets specifications, these times are in Eastern. So for me the best times to post would be 2:00pm, 1:00am, 7:00pm, 3:00pm, and 6:00pm (based on conversion from EST to CST)."
   ]
  }
 ],
 "metadata": {
  "kernelspec": {
   "display_name": "Python 3",
   "language": "python",
   "name": "python3"
  },
  "language_info": {
   "codemirror_mode": {
    "name": "ipython",
    "version": 3
   },
   "file_extension": ".py",
   "mimetype": "text/x-python",
   "name": "python",
   "nbconvert_exporter": "python",
   "pygments_lexer": "ipython3",
   "version": "3.4.3"
  }
 },
 "nbformat": 4,
 "nbformat_minor": 2
}
